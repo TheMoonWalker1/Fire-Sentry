{
 "cells": [
  {
   "cell_type": "code",
   "execution_count": 159,
   "metadata": {
    "collapsed": true
   },
   "outputs": [],
   "source": []
  },
  {
   "cell_type": "code",
   "execution_count": 160,
   "outputs": [],
   "source": [
    "import numpy as np\n",
    "import pandas as pd\n",
    "from sklearn import *"
   ],
   "metadata": {
    "collapsed": false
   }
  },
  {
   "cell_type": "code",
   "execution_count": 161,
   "outputs": [],
   "source": [
    "df_o = pd.read_csv('C:\\\\Users\\\\prane\\\\PycharmProjects\\\\hacktj\\\\data2.csv')\n",
    "df = df_o.copy()"
   ],
   "metadata": {
    "collapsed": false
   }
  },
  {
   "cell_type": "code",
   "execution_count": 162,
   "outputs": [],
   "source": [
    "# reduce skew\n",
    "# area = df['area'].apply(lambda x: np.log(x + np.sqrt(x**2 + 1)))\n",
    "df['CLASS'] = df_o['CLASS'].apply(lambda x: 0 if x == \"no_fire\" else 1)\n",
    "df['CLASS']"
   ],
   "metadata": {
    "collapsed": false
   }
  },
  {
   "cell_type": "code",
   "execution_count": 163,
   "outputs": [],
   "source": [
    "from matplotlib import pyplot as plt\n",
    "plt.hist(df['NDVI'])\n",
    "plt.show()"
   ],
   "metadata": {
    "collapsed": false
   }
  },
  {
   "cell_type": "code",
   "execution_count": 164,
   "outputs": [],
   "source": [
    "plt.hist(df['LST'])\n",
    "plt.show()"
   ],
   "metadata": {
    "collapsed": false
   }
  },
  {
   "cell_type": "code",
   "execution_count": 165,
   "outputs": [],
   "source": [
    "plt.hist(df['BURNED_AREA'])\n",
    "plt.show()"
   ],
   "metadata": {
    "collapsed": false
   }
  },
  {
   "cell_type": "markdown",
   "source": [],
   "metadata": {
    "collapsed": false
   }
  },
  {
   "cell_type": "code",
   "execution_count": 166,
   "outputs": [],
   "source": [
    "classification = df['CLASS']"
   ],
   "metadata": {
    "collapsed": false
   }
  },
  {
   "cell_type": "markdown",
   "source": [],
   "metadata": {
    "collapsed": false
   }
  },
  {
   "cell_type": "code",
   "execution_count": 167,
   "outputs": [],
   "source": [
    "TEST = []\n",
    "for i in range(9):\n",
    "    i = i + 1\n",
    "    TEST2 = []\n",
    "\n",
    "    parameters = df.drop('CLASS', axis=1)\n",
    "    train_parameters, test_parameters, train_solutions, test_solutions = model_selection.train_test_split(parameters, classification, train_size=i/10)\n",
    "\n",
    "    rf = naive_bayes.GaussianNB()\n",
    "    rf.fit(train_parameters, train_solutions)\n",
    "    TEST2.append(metrics.accuracy_score(test_solutions, rf.predict(test_parameters)))\n",
    "\n",
    "    rf = tree.DecisionTreeClassifier()\n",
    "    rf.fit(train_parameters, train_solutions)\n",
    "    TEST2.append(metrics.accuracy_score(test_solutions, rf.predict(test_parameters)))\n",
    "\n",
    "    rf = svm.SVC()\n",
    "    rf.fit(train_parameters, train_solutions)\n",
    "    TEST2.append(metrics.accuracy_score(test_solutions, rf.predict(test_parameters)))\n",
    "\n",
    "    rf = linear_model.LogisticRegression()\n",
    "    rf.fit(train_parameters, train_solutions)\n",
    "    TEST2.append(metrics.accuracy_score(test_solutions, rf.predict(test_parameters)))\n",
    "\n",
    "    # Create a Random Forest classifier model\n",
    "    rf = ensemble.RandomForestClassifier(n_estimators=101, random_state=42)\n",
    "    rf.fit(train_parameters, train_solutions)\n",
    "    TEST2.append(metrics.accuracy_score(test_solutions, rf.predict(test_parameters)))\n",
    "\n",
    "    TEST.append(TEST2)"
   ],
   "metadata": {
    "collapsed": false
   }
  },
  {
   "cell_type": "code",
   "execution_count": 168,
   "outputs": [],
   "source": [
    "TEST"
   ],
   "metadata": {
    "collapsed": false
   }
  },
  {
   "cell_type": "markdown",
   "source": [],
   "metadata": {
    "collapsed": false
   }
  },
  {
   "cell_type": "markdown",
   "source": [],
   "metadata": {
    "collapsed": false
   }
  },
  {
   "cell_type": "code",
   "execution_count": 169,
   "outputs": [],
   "source": [
    "# TESTT = np.linalg.inv(np.array(TEST))\n",
    "labels = label=[\"Naive Bayes\", \"Decision Tree\", \"SVC\", \"Logistic Regression\", \"Random Tree\"]\n",
    "plt.plot(label, TEST[0], label=\"10% Training\")\n",
    "plt.plot(label, TEST[1], label=\"20% Training\")\n",
    "plt.plot(label, TEST[2], label=\"30% Training\")\n",
    "plt.plot(label, TEST[3], label=\"40% Training\")\n",
    "plt.plot(label, TEST[4], label=\"50% Training\")\n",
    "plt.plot(label, TEST[5], label=\"60% Training\")\n",
    "plt.plot(label, TEST[6], label=\"70% Training\")\n",
    "plt.plot(label, TEST[7], label=\"80% Training\")\n",
    "plt.plot(label, TEST[8], label=\"90% Training\")\n",
    "# plt.plot(label, TEST[9], label=\"100% Training\")\n",
    "plt.legend()\n",
    "plt.show()"
   ],
   "metadata": {
    "collapsed": false
   }
  },
  {
   "cell_type": "code",
   "execution_count": 169,
   "outputs": [],
   "source": [
    "\n",
    "\n"
   ],
   "metadata": {
    "collapsed": false
   }
  },
  {
   "cell_type": "markdown",
   "source": [],
   "metadata": {
    "collapsed": false
   }
  },
  {
   "cell_type": "code",
   "execution_count": 169,
   "outputs": [],
   "source": [],
   "metadata": {
    "collapsed": false
   }
  },
  {
   "cell_type": "code",
   "execution_count": 169,
   "outputs": [],
   "source": [],
   "metadata": {
    "collapsed": false
   }
  },
  {
   "cell_type": "code",
   "execution_count": 169,
   "outputs": [],
   "source": [],
   "metadata": {
    "collapsed": false
   }
  },
  {
   "cell_type": "code",
   "execution_count": 169,
   "outputs": [],
   "source": [],
   "metadata": {
    "collapsed": false
   }
  }
 ],
 "metadata": {
  "kernelspec": {
   "display_name": "Python 3",
   "language": "python",
   "name": "python3"
  },
  "language_info": {
   "codemirror_mode": {
    "name": "ipython",
    "version": 2
   },
   "file_extension": ".py",
   "mimetype": "text/x-python",
   "name": "python",
   "nbconvert_exporter": "python",
   "pygments_lexer": "ipython2",
   "version": "2.7.6"
  }
 },
 "nbformat": 4,
 "nbformat_minor": 0
}
